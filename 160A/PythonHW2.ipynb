{
 "cells": [
  {
   "cell_type": "markdown",
   "metadata": {},
   "source": [
    "# Python Homework 2"
   ]
  },
  {
   "cell_type": "markdown",
   "metadata": {},
   "source": [
    "##### A stochastic model for a car insurance company's total cost of damages from traffic accidents goes back to the work by Van der Lann and Louter, \"A statistical model for the costs of passenger car traffic accidents\", Journal of the Royal Statistical Society (1986).\n",
    "\n",
    "For every $k=1,2,3\\ldots$ we denote by the random variable $X_k$ the US dollar amount of a damage from a policy holder's traffic accident which will occur during the year 2022.\n",
    "\n",
    "We assume that $X_1$, $X_2$,... is an i.i.d. (independent and identically distributed) sequence of exponentially distributed random variables with an average claim size of 1,500 USD. The (random) total number of accidents $N$ in 2022 is assumed to be Poisson distributed with $\\lambda$ claims on average.\n",
    "\n",
    "It is assumed that the number of accidents is independent of the US dollar amount of damages for each accident. That is, the random variable $N$ is independent of the random variables $X_1$, $X_2$,...\n",
    "\n",
    "The total costs for the insurance company by the end of 2022 will thus be given by the <b>random sum</b> \n",
    "\n",
    "$$S_N := X_1 + X_2 + \\dots + X_N = \\sum_{k = 1}^{N} X_k.$$\n",
    "\n",
    "Note that the total number $N$ of accidents is random!"
   ]
  },
  {
   "cell_type": "markdown",
   "metadata": {},
   "source": [
    "The goal of the current exercise is to approximate via simulation:\n",
    "\n",
    "* the conditional expected total costs $$\\mathbb{E}[S_N|N=j]$$ for the insurance company in 2022 given that the number of claims is equal to $j$, and\n",
    "\n",
    "* the expected total costs $$\\mathbb{E}[S_N]$$ for the insurance company in 2022, and\n",
    "\n",
    "* the probabilities that the total cost will not exceed $K$ USD, i.e., \n",
    "\n",
    "$$\\mathbb{P}[S_N \\leq K] \\quad \\text{for} \\, K = \\$30,000,\\text{  and  } K=\\$45,000$$\n"
   ]
  },
  {
   "cell_type": "markdown",
   "metadata": {},
   "source": [
    "As usual, we start with loading some packages:"
   ]
  },
  {
   "cell_type": "code",
   "execution_count": 63,
   "metadata": {},
   "outputs": [],
   "source": [
    "import numpy as np\n",
    "import math\n",
    "np.random.seed(58)"
   ]
  },
  {
   "cell_type": "markdown",
   "metadata": {},
   "source": [
    "<b>Step 1:</b><br>\n",
    "First, write a function <tt>randomSum()</tt> which simulates from the distribution of $S_N$ given that $N=j$. The output should just be a single scalar!\n",
    "\n",
    "<i>Hint:</i> Use proper build-in functions from the <i>NumPy</i>-package in your code in order to sample from an Exponential distribution (check out the GettingStarted python file): "
   ]
  },
  {
   "cell_type": "code",
   "execution_count": 64,
   "metadata": {},
   "outputs": [],
   "source": [
    "def randomSum(averageClaimSize, j):\n",
    "    S_j = np.random.exponential(scale = averageClaimSize, size = j)\n",
    "\n",
    "    sampleSum = sum(S_j)\n",
    "        \n",
    "    return sampleSum  "
   ]
  },
  {
   "cell_type": "code",
   "execution_count": 65,
   "metadata": {},
   "outputs": [
    {
     "data": {
      "text/plain": "27445.91736556084"
     },
     "execution_count": 65,
     "metadata": {},
     "output_type": "execute_result"
    }
   ],
   "source": [
    "## Test your function\n",
    "randomSum(1500,20)"
   ]
  },
  {
   "cell_type": "markdown",
   "metadata": {},
   "source": [
    "<b>Step 2:</b><br>Write a function <tt>simulatorConditional()</tt> which uses the function <tt>randomSum()</tt> to simulate $M \\in \\mathbb{N}$ samples from the distribution of $S_N$ given that $N=j$. The output should be an array of length $M$."
   ]
  },
  {
   "cell_type": "code",
   "execution_count": 66,
   "metadata": {},
   "outputs": [],
   "source": [
    "def simulatorConditional(averageClaimSize, j, M):\n",
    "    samples = list()\n",
    "\n",
    "    for i in range (M):\n",
    "        samples.append(randomSum(averageClaimSize, j))\n",
    "\n",
    "    samples = np.array(samples)\n",
    "    \n",
    "    return samples"
   ]
  },
  {
   "cell_type": "code",
   "execution_count": 67,
   "metadata": {},
   "outputs": [
    {
     "data": {
      "text/plain": "array([17887.06047668, 38309.56588021, 28351.06026457, 26582.43081688,\n       41254.65576503, 30219.19712903, 33594.57441019, 23127.93580127,\n       22166.24924735, 24552.48280203])"
     },
     "execution_count": 67,
     "metadata": {},
     "output_type": "execute_result"
    }
   ],
   "source": [
    "## Test your function\n",
    "simulatorConditional(1500,20,10)"
   ]
  },
  {
   "cell_type": "markdown",
   "metadata": {},
   "source": [
    "<b>Step 3:</b><br>Use your <tt>simulatorConditional()</tt> function to approximate the conditional expectation $$\\mathbb{E}[S_N|N=j]$$ for $j=10$ and $j=20$.\n",
    "\n",
    "For this, you generate with your function <tt>simulatorConditional()</tt> a bunch of $M=1,000$ independent realizations (samples) $s^{(1)}_j, s^{(2)}_j, \\ldots, s^{(M)}_j$ with the distribution of $S_N$ given $N=j$. Then you can approximate:\n",
    "$$ \\$j \\cdot 1,500 = \\mathbb{E}[S_N|N=j] \\approx \\frac{1}{M} \\sum_{m=1}^M s^{(m)}_j,$$\n",
    "and check the accuracy of this approximation."
   ]
  },
  {
   "cell_type": "code",
   "execution_count": 68,
   "metadata": {},
   "outputs": [
    {
     "name": "stdout",
     "output_type": "stream",
     "text": [
      "The approximate conditional expectation for j = 10 is 15116.083569199302.\n",
      "The approximate conditional expectation for j = 20 is 30168.559329139254.\n"
     ]
    }
   ],
   "source": [
    "C_E_j_10 = np.mean(simulatorConditional(1500, 10,1000))\n",
    "C_E_j_20 = np.mean(simulatorConditional(1500, 20,1000))\n",
    "\n",
    "print(\"The approximate conditional expectation for j = 10 is {}.\".format(C_E_j_10))\n",
    "print(\"The approximate conditional expectation for j = 20 is {}.\".format(C_E_j_20))"
   ]
  },
  {
   "cell_type": "markdown",
   "source": [
    "The true conditional expectation for j = 10 is $E[S_N|N=j] = 10 * 1500 = 15000 \\approx 15116.083569199302$.\n",
    "The true conditional expectation for j = 20 is $E[S_N|N=j] = 20 * 1500 = 30000 \\approx 30168.559329139254$."
   ],
   "metadata": {
    "collapsed": false
   }
  },
  {
   "cell_type": "markdown",
   "metadata": {},
   "source": [
    "<b>Step 4:</b><br>Write another simulator function which again uses the function <tt>randomSum()</tt> to simulate $M \\in \\mathbb{N}$ samples now from the unconditional distribution of $S_N$. You will need to write a function <tt>simulator()</tt> that passes Poisson distributed random numbers into the second argument of <tt>randomSum()</tt> now. The output of the function <tt>simulator()</tt> should be an array of length $M$."
   ]
  },
  {
   "cell_type": "code",
   "execution_count": 69,
   "metadata": {},
   "outputs": [],
   "source": [
    "def simulator(averageClaimSize, Poissonparameter, M):\n",
    "    samples = list()\n",
    "\n",
    "    for i in range(M):\n",
    "        j_rand = np.random.poisson(lam = Poissonparameter)\n",
    "        samples.append(randomSum(averageClaimSize, j_rand))\n",
    "\n",
    "    samples = np.array(samples)\n",
    "    \n",
    "    return samples"
   ]
  },
  {
   "cell_type": "markdown",
   "metadata": {},
   "source": [
    "<b>Step 5:</b><br>We now assume that the average number of claims per year is $20$ and therefore choose $\\lambda=20$. As you are seeing in the homework, it holds via the so-called <b>Wald's Identity</b> that the expectation of the random sum $S_N$ is actually given by the formula\n",
    "\n",
    "\\begin{equation}\n",
    "\\mathbb{E}[S_N] = \\mathbb{E}[N] \\cdot \\mathbb{E}[X_1] = 20 \\cdot \\$1,500 = \\$30,000.\n",
    "\\end{equation}\n",
    "\n",
    "Check via the empirical mean that\n",
    "\n",
    "$$ \\$30,000 = \\mathbb{E}[S_N] \\approx \\frac{1}{M} \\sum_{m=1}^M s^{(m)}_N$$\n",
    "\n",
    "where $s^{(1)}_N, s^{(2)}_N, \\ldots, s^{(M)}_N$ denote $M$ independent realizations (samples) from the random variable $S_N$. Use $M = 5000$ simulations.  "
   ]
  },
  {
   "cell_type": "code",
   "execution_count": 70,
   "metadata": {},
   "outputs": [
    {
     "name": "stdout",
     "output_type": "stream",
     "text": [
      "The approximate expectation of the random sum S_N 30073.123816584313.\n"
     ]
    }
   ],
   "source": [
    "E_S_N = np.mean(simulator(1500, 20, 5000))\n",
    "print(\"The approximate expectation of the random sum S_N {}.\".format(E_S_N))"
   ]
  },
  {
   "cell_type": "markdown",
   "metadata": {},
   "source": [
    "<b>Step 6: </b><br>Recall from class that the desired probabilities $\\mathbb{P}[S_N \\leq K]$ for $K = \\$30,000,\\text{ and } \\$45,000$ can be computed as expectations via an indicator function\n",
    "\n",
    "$$ \\mathbb{P}[S_N \\leq K] = \\mathbb{E}[1_{\\{S_N \\leq K\\}}]$$\n",
    "\n",
    "We use once more the empricial mean to approximate\n",
    "\n",
    "$$ \\mathbb{E}[1_{\\{S_N \\leq K\\}}] \\approx \\frac{1}{M} \\sum_{m=1}^M 1_{\\{s^{(m)}_N \\leq K \\}}$$\n",
    "\n",
    "with $M$ independent realizations (samples) from the random variable $S_N$ (again denoted by $s^{(1)}_N, s^{(2)}_N, \\ldots, s^{(M)}_N$)."
   ]
  },
  {
   "cell_type": "markdown",
   "metadata": {},
   "source": [
    "Write a function <tt>MCprobEstimation()</tt> which estimates the probabilities $\\mathbb{P}[S_N \\leq K]$ for $K = \\$30,000,\\text{  and  } K=\\$45,000$ as described based on $M$ simulations of $S_N$. The output should be a real number in [0,1]:"
   ]
  },
  {
   "cell_type": "code",
   "execution_count": 71,
   "metadata": {},
   "outputs": [],
   "source": [
    "def MCprobEstimation(averageClaimSize, averageNumberOfClaims, K, M):\n",
    "    samples = simulator(averageClaimSize, averageNumberOfClaims, M)\n",
    "\n",
    "    empiricalSum = 0\n",
    "\n",
    "    for sample in samples:\n",
    "        if sample <= K:\n",
    "            empiricalSum = empiricalSum + 1\n",
    "\n",
    "    empiricalProb = empiricalSum/M\n",
    "\n",
    "    return empiricalProb"
   ]
  },
  {
   "cell_type": "code",
   "execution_count": 72,
   "metadata": {},
   "outputs": [
    {
     "data": {
      "text/plain": "0.2"
     },
     "execution_count": 72,
     "metadata": {},
     "output_type": "execute_result"
    }
   ],
   "source": [
    "## Test your function\n",
    "MCprobEstimation(1500, 20, 20000, 10)"
   ]
  },
  {
   "cell_type": "markdown",
   "metadata": {},
   "source": [
    "Test your function with varying $M = 100, 1000, 10000$ simulations:"
   ]
  },
  {
   "cell_type": "code",
   "execution_count": 73,
   "metadata": {},
   "outputs": [
    {
     "name": "stdout",
     "output_type": "stream",
     "text": [
      "0.5\n",
      "0.546\n",
      "0.5311\n"
     ]
    }
   ],
   "source": [
    "print(MCprobEstimation(1500, 20, 30000, 100))\n",
    "print(MCprobEstimation(1500, 20, 30000, 1000))\n",
    "print(MCprobEstimation(1500, 20, 30000, 10000))"
   ]
  },
  {
   "cell_type": "code",
   "execution_count": 74,
   "metadata": {},
   "outputs": [
    {
     "name": "stdout",
     "output_type": "stream",
     "text": [
      "0.89\n",
      "0.935\n",
      "0.9325\n"
     ]
    }
   ],
   "source": [
    "print(MCprobEstimation(1500, 20, 45000, 100))\n",
    "print(MCprobEstimation(1500, 20, 45000, 1000))\n",
    "print(MCprobEstimation(1500, 20, 45000, 10000))"
   ]
  },
  {
   "cell_type": "code",
   "execution_count": 74,
   "outputs": [],
   "source": [],
   "metadata": {
    "collapsed": false
   }
  }
 ],
 "metadata": {
  "anaconda-cloud": {},
  "kernelspec": {
   "display_name": "Python 3",
   "language": "python",
   "name": "python3"
  },
  "language_info": {
   "codemirror_mode": {
    "name": "ipython",
    "version": 3
   },
   "file_extension": ".py",
   "mimetype": "text/x-python",
   "name": "python",
   "nbconvert_exporter": "python",
   "pygments_lexer": "ipython3",
   "version": "3.8.8"
  }
 },
 "nbformat": 4,
 "nbformat_minor": 2
}
